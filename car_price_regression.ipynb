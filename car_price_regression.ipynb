{
 "cells": [
  {
   "cell_type": "code",
   "execution_count": 5,
   "metadata": {
    "collapsed": true,
    "pycharm": {
     "name": "#%%\n"
    }
   },
   "outputs": [],
   "source": [
    "#импорт библиотек\n",
    "import torch            #тензорные вычисления\n",
    "import numpy as np      #массивы и матрицы и математика\n",
    "import pandas as pd     #инструмент анализа и манипулирования c данными\n",
    "import sklearn as sk    #бибоиотека алгоритмов машинного обучения\n",
    "import seaborn as sns   #визуализация"
   ]
  },
  {
   "cell_type": "code",
   "execution_count": 6,
   "outputs": [],
   "source": [
    "#загрузка датасета с kaggle\n",
    "df=pd.read_csv('autos.csv')"
   ],
   "metadata": {
    "collapsed": false,
    "pycharm": {
     "name": "#%%\n"
    }
   }
  },
  {
   "cell_type": "code",
   "execution_count": 7,
   "outputs": [
    {
     "name": "stdout",
     "output_type": "stream",
     "text": [
      "<class 'pandas.core.frame.DataFrame'>\n",
      "RangeIndex: 371528 entries, 0 to 371527\n",
      "Data columns (total 21 columns):\n",
      " #   Column               Non-Null Count   Dtype \n",
      "---  ------               --------------   ----- \n",
      " 0   index                371528 non-null  int64 \n",
      " 1   dateCrawled          371528 non-null  object\n",
      " 2   name                 371528 non-null  object\n",
      " 3   seller               371528 non-null  object\n",
      " 4   offerType            371528 non-null  object\n",
      " 5   price                371528 non-null  int64 \n",
      " 6   abtest               371528 non-null  object\n",
      " 7   vehicleType          333659 non-null  object\n",
      " 8   yearOfRegistration   371528 non-null  int64 \n",
      " 9   gearbox              351319 non-null  object\n",
      " 10  powerPS              371528 non-null  int64 \n",
      " 11  model                351044 non-null  object\n",
      " 12  kilometer            371528 non-null  int64 \n",
      " 13  monthOfRegistration  371528 non-null  int64 \n",
      " 14  fuelType             338142 non-null  object\n",
      " 15  brand                371528 non-null  object\n",
      " 16  notRepairedDamage    299468 non-null  object\n",
      " 17  dateCreated          371528 non-null  object\n",
      " 18  nrOfPictures         371528 non-null  int64 \n",
      " 19  postalCode           371528 non-null  int64 \n",
      " 20  lastSeen             371528 non-null  object\n",
      "dtypes: int64(8), object(13)\n",
      "memory usage: 59.5+ MB\n"
     ]
    }
   ],
   "source": [
    "#посмотрим на структуру датасета\n",
    "df.info()"
   ],
   "metadata": {
    "collapsed": false,
    "pycharm": {
     "name": "#%%\n"
    }
   }
  },
  {
   "cell_type": "code",
   "execution_count": 4,
   "outputs": [
    {
     "data": {
      "text/plain": "    index          dateCrawled  \\\n0       0  2016-03-24 11:52:17   \n1       1  2016-03-24 10:58:45   \n2       2  2016-03-14 12:52:21   \n3       3  2016-03-17 16:54:04   \n4       4  2016-03-31 17:25:20   \n5       5  2016-04-04 17:36:23   \n6       6  2016-04-01 20:48:51   \n7       7  2016-03-21 18:54:38   \n8       8  2016-04-04 23:42:13   \n9       9  2016-03-17 10:53:50   \n10     10  2016-03-26 19:54:18   \n11     11  2016-04-07 10:06:22   \n12     12  2016-03-15 22:49:09   \n13     13  2016-03-21 21:37:40   \n14     14  2016-03-21 12:57:01   \n\n                                                 name  seller offerType  \\\n0                                          Golf_3_1.6  privat   Angebot   \n1                                A5_Sportback_2.7_Tdi  privat   Angebot   \n2                      Jeep_Grand_Cherokee_\"Overland\"  privat   Angebot   \n3                                  GOLF_4_1_4__3TÜRER  privat   Angebot   \n4                      Skoda_Fabia_1.4_TDI_PD_Classic  privat   Angebot   \n5   BMW_316i___e36_Limousine___Bastlerfahrzeug__Ex...  privat   Angebot   \n6                         Peugeot_206_CC_110_Platinum  privat   Angebot   \n7                        VW_Derby_Bj_80__Scheunenfund  privat   Angebot   \n8                Ford_C___Max_Titanium_1_0_L_EcoBoost  privat   Angebot   \n9   VW_Golf_4_5_tuerig_zu_verkaufen_mit_Anhaengerk...  privat   Angebot   \n10                                  Mazda_3_1.6_Sport  privat   Angebot   \n11      Volkswagen_Passat_Variant_2.0_TDI_Comfortline  privat   Angebot   \n12                  VW_Passat_Facelift_35i__\"7Sitzer\"  privat   Angebot   \n13                     VW_PASSAT_1.9_TDI_131_PS_LEDER  privat   Angebot   \n14  Nissan_Navara_2.5DPF_SE4x4_Klima_Sitzheizg_Blu...  privat   Angebot   \n\n    price   abtest vehicleType  yearOfRegistration    gearbox  ...    model  \\\n0     480     test         NaN                1993    manuell  ...     golf   \n1   18300     test       coupe                2011    manuell  ...      NaN   \n2    9800     test         suv                2004  automatik  ...    grand   \n3    1500     test  kleinwagen                2001    manuell  ...     golf   \n4    3600     test  kleinwagen                2008    manuell  ...    fabia   \n5     650     test   limousine                1995    manuell  ...      3er   \n6    2200     test      cabrio                2004    manuell  ...  2_reihe   \n7       0     test   limousine                1980    manuell  ...   andere   \n8   14500  control         bus                2014    manuell  ...    c_max   \n9     999     test  kleinwagen                1998    manuell  ...     golf   \n10   2000  control   limousine                2004    manuell  ...  3_reihe   \n11   2799  control       kombi                2005    manuell  ...   passat   \n12    999  control       kombi                1995    manuell  ...   passat   \n13   2500  control       kombi                2004    manuell  ...   passat   \n14  17999  control         suv                2011    manuell  ...   navara   \n\n   kilometer  monthOfRegistration  fuelType       brand notRepairedDamage  \\\n0     150000                    0    benzin  volkswagen               NaN   \n1     125000                    5    diesel        audi                ja   \n2     125000                    8    diesel        jeep               NaN   \n3     150000                    6    benzin  volkswagen              nein   \n4      90000                    7    diesel       skoda              nein   \n5     150000                   10    benzin         bmw                ja   \n6     150000                    8    benzin     peugeot              nein   \n7      40000                    7    benzin  volkswagen              nein   \n8      30000                    8    benzin        ford               NaN   \n9     150000                    0       NaN  volkswagen               NaN   \n10    150000                   12    benzin       mazda              nein   \n11    150000                   12    diesel  volkswagen                ja   \n12    150000                   11    benzin  volkswagen               NaN   \n13    150000                    2       NaN  volkswagen              nein   \n14     70000                    3    diesel      nissan              nein   \n\n            dateCreated nrOfPictures  postalCode             lastSeen  \n0   2016-03-24 00:00:00            0       70435  2016-04-07 03:16:57  \n1   2016-03-24 00:00:00            0       66954  2016-04-07 01:46:50  \n2   2016-03-14 00:00:00            0       90480  2016-04-05 12:47:46  \n3   2016-03-17 00:00:00            0       91074  2016-03-17 17:40:17  \n4   2016-03-31 00:00:00            0       60437  2016-04-06 10:17:21  \n5   2016-04-04 00:00:00            0       33775  2016-04-06 19:17:07  \n6   2016-04-01 00:00:00            0       67112  2016-04-05 18:18:39  \n7   2016-03-21 00:00:00            0       19348  2016-03-25 16:47:58  \n8   2016-04-04 00:00:00            0       94505  2016-04-04 23:42:13  \n9   2016-03-17 00:00:00            0       27472  2016-03-31 17:17:06  \n10  2016-03-26 00:00:00            0       96224  2016-04-06 10:45:34  \n11  2016-04-07 00:00:00            0       57290  2016-04-07 10:25:17  \n12  2016-03-15 00:00:00            0       37269  2016-04-01 13:16:16  \n13  2016-03-21 00:00:00            0       90762  2016-03-23 02:50:54  \n14  2016-03-21 00:00:00            0        4177  2016-04-06 07:45:42  \n\n[15 rows x 21 columns]",
      "text/html": "<div>\n<style scoped>\n    .dataframe tbody tr th:only-of-type {\n        vertical-align: middle;\n    }\n\n    .dataframe tbody tr th {\n        vertical-align: top;\n    }\n\n    .dataframe thead th {\n        text-align: right;\n    }\n</style>\n<table border=\"1\" class=\"dataframe\">\n  <thead>\n    <tr style=\"text-align: right;\">\n      <th></th>\n      <th>index</th>\n      <th>dateCrawled</th>\n      <th>name</th>\n      <th>seller</th>\n      <th>offerType</th>\n      <th>price</th>\n      <th>abtest</th>\n      <th>vehicleType</th>\n      <th>yearOfRegistration</th>\n      <th>gearbox</th>\n      <th>...</th>\n      <th>model</th>\n      <th>kilometer</th>\n      <th>monthOfRegistration</th>\n      <th>fuelType</th>\n      <th>brand</th>\n      <th>notRepairedDamage</th>\n      <th>dateCreated</th>\n      <th>nrOfPictures</th>\n      <th>postalCode</th>\n      <th>lastSeen</th>\n    </tr>\n  </thead>\n  <tbody>\n    <tr>\n      <th>0</th>\n      <td>0</td>\n      <td>2016-03-24 11:52:17</td>\n      <td>Golf_3_1.6</td>\n      <td>privat</td>\n      <td>Angebot</td>\n      <td>480</td>\n      <td>test</td>\n      <td>NaN</td>\n      <td>1993</td>\n      <td>manuell</td>\n      <td>...</td>\n      <td>golf</td>\n      <td>150000</td>\n      <td>0</td>\n      <td>benzin</td>\n      <td>volkswagen</td>\n      <td>NaN</td>\n      <td>2016-03-24 00:00:00</td>\n      <td>0</td>\n      <td>70435</td>\n      <td>2016-04-07 03:16:57</td>\n    </tr>\n    <tr>\n      <th>1</th>\n      <td>1</td>\n      <td>2016-03-24 10:58:45</td>\n      <td>A5_Sportback_2.7_Tdi</td>\n      <td>privat</td>\n      <td>Angebot</td>\n      <td>18300</td>\n      <td>test</td>\n      <td>coupe</td>\n      <td>2011</td>\n      <td>manuell</td>\n      <td>...</td>\n      <td>NaN</td>\n      <td>125000</td>\n      <td>5</td>\n      <td>diesel</td>\n      <td>audi</td>\n      <td>ja</td>\n      <td>2016-03-24 00:00:00</td>\n      <td>0</td>\n      <td>66954</td>\n      <td>2016-04-07 01:46:50</td>\n    </tr>\n    <tr>\n      <th>2</th>\n      <td>2</td>\n      <td>2016-03-14 12:52:21</td>\n      <td>Jeep_Grand_Cherokee_\"Overland\"</td>\n      <td>privat</td>\n      <td>Angebot</td>\n      <td>9800</td>\n      <td>test</td>\n      <td>suv</td>\n      <td>2004</td>\n      <td>automatik</td>\n      <td>...</td>\n      <td>grand</td>\n      <td>125000</td>\n      <td>8</td>\n      <td>diesel</td>\n      <td>jeep</td>\n      <td>NaN</td>\n      <td>2016-03-14 00:00:00</td>\n      <td>0</td>\n      <td>90480</td>\n      <td>2016-04-05 12:47:46</td>\n    </tr>\n    <tr>\n      <th>3</th>\n      <td>3</td>\n      <td>2016-03-17 16:54:04</td>\n      <td>GOLF_4_1_4__3TÜRER</td>\n      <td>privat</td>\n      <td>Angebot</td>\n      <td>1500</td>\n      <td>test</td>\n      <td>kleinwagen</td>\n      <td>2001</td>\n      <td>manuell</td>\n      <td>...</td>\n      <td>golf</td>\n      <td>150000</td>\n      <td>6</td>\n      <td>benzin</td>\n      <td>volkswagen</td>\n      <td>nein</td>\n      <td>2016-03-17 00:00:00</td>\n      <td>0</td>\n      <td>91074</td>\n      <td>2016-03-17 17:40:17</td>\n    </tr>\n    <tr>\n      <th>4</th>\n      <td>4</td>\n      <td>2016-03-31 17:25:20</td>\n      <td>Skoda_Fabia_1.4_TDI_PD_Classic</td>\n      <td>privat</td>\n      <td>Angebot</td>\n      <td>3600</td>\n      <td>test</td>\n      <td>kleinwagen</td>\n      <td>2008</td>\n      <td>manuell</td>\n      <td>...</td>\n      <td>fabia</td>\n      <td>90000</td>\n      <td>7</td>\n      <td>diesel</td>\n      <td>skoda</td>\n      <td>nein</td>\n      <td>2016-03-31 00:00:00</td>\n      <td>0</td>\n      <td>60437</td>\n      <td>2016-04-06 10:17:21</td>\n    </tr>\n    <tr>\n      <th>5</th>\n      <td>5</td>\n      <td>2016-04-04 17:36:23</td>\n      <td>BMW_316i___e36_Limousine___Bastlerfahrzeug__Ex...</td>\n      <td>privat</td>\n      <td>Angebot</td>\n      <td>650</td>\n      <td>test</td>\n      <td>limousine</td>\n      <td>1995</td>\n      <td>manuell</td>\n      <td>...</td>\n      <td>3er</td>\n      <td>150000</td>\n      <td>10</td>\n      <td>benzin</td>\n      <td>bmw</td>\n      <td>ja</td>\n      <td>2016-04-04 00:00:00</td>\n      <td>0</td>\n      <td>33775</td>\n      <td>2016-04-06 19:17:07</td>\n    </tr>\n    <tr>\n      <th>6</th>\n      <td>6</td>\n      <td>2016-04-01 20:48:51</td>\n      <td>Peugeot_206_CC_110_Platinum</td>\n      <td>privat</td>\n      <td>Angebot</td>\n      <td>2200</td>\n      <td>test</td>\n      <td>cabrio</td>\n      <td>2004</td>\n      <td>manuell</td>\n      <td>...</td>\n      <td>2_reihe</td>\n      <td>150000</td>\n      <td>8</td>\n      <td>benzin</td>\n      <td>peugeot</td>\n      <td>nein</td>\n      <td>2016-04-01 00:00:00</td>\n      <td>0</td>\n      <td>67112</td>\n      <td>2016-04-05 18:18:39</td>\n    </tr>\n    <tr>\n      <th>7</th>\n      <td>7</td>\n      <td>2016-03-21 18:54:38</td>\n      <td>VW_Derby_Bj_80__Scheunenfund</td>\n      <td>privat</td>\n      <td>Angebot</td>\n      <td>0</td>\n      <td>test</td>\n      <td>limousine</td>\n      <td>1980</td>\n      <td>manuell</td>\n      <td>...</td>\n      <td>andere</td>\n      <td>40000</td>\n      <td>7</td>\n      <td>benzin</td>\n      <td>volkswagen</td>\n      <td>nein</td>\n      <td>2016-03-21 00:00:00</td>\n      <td>0</td>\n      <td>19348</td>\n      <td>2016-03-25 16:47:58</td>\n    </tr>\n    <tr>\n      <th>8</th>\n      <td>8</td>\n      <td>2016-04-04 23:42:13</td>\n      <td>Ford_C___Max_Titanium_1_0_L_EcoBoost</td>\n      <td>privat</td>\n      <td>Angebot</td>\n      <td>14500</td>\n      <td>control</td>\n      <td>bus</td>\n      <td>2014</td>\n      <td>manuell</td>\n      <td>...</td>\n      <td>c_max</td>\n      <td>30000</td>\n      <td>8</td>\n      <td>benzin</td>\n      <td>ford</td>\n      <td>NaN</td>\n      <td>2016-04-04 00:00:00</td>\n      <td>0</td>\n      <td>94505</td>\n      <td>2016-04-04 23:42:13</td>\n    </tr>\n    <tr>\n      <th>9</th>\n      <td>9</td>\n      <td>2016-03-17 10:53:50</td>\n      <td>VW_Golf_4_5_tuerig_zu_verkaufen_mit_Anhaengerk...</td>\n      <td>privat</td>\n      <td>Angebot</td>\n      <td>999</td>\n      <td>test</td>\n      <td>kleinwagen</td>\n      <td>1998</td>\n      <td>manuell</td>\n      <td>...</td>\n      <td>golf</td>\n      <td>150000</td>\n      <td>0</td>\n      <td>NaN</td>\n      <td>volkswagen</td>\n      <td>NaN</td>\n      <td>2016-03-17 00:00:00</td>\n      <td>0</td>\n      <td>27472</td>\n      <td>2016-03-31 17:17:06</td>\n    </tr>\n    <tr>\n      <th>10</th>\n      <td>10</td>\n      <td>2016-03-26 19:54:18</td>\n      <td>Mazda_3_1.6_Sport</td>\n      <td>privat</td>\n      <td>Angebot</td>\n      <td>2000</td>\n      <td>control</td>\n      <td>limousine</td>\n      <td>2004</td>\n      <td>manuell</td>\n      <td>...</td>\n      <td>3_reihe</td>\n      <td>150000</td>\n      <td>12</td>\n      <td>benzin</td>\n      <td>mazda</td>\n      <td>nein</td>\n      <td>2016-03-26 00:00:00</td>\n      <td>0</td>\n      <td>96224</td>\n      <td>2016-04-06 10:45:34</td>\n    </tr>\n    <tr>\n      <th>11</th>\n      <td>11</td>\n      <td>2016-04-07 10:06:22</td>\n      <td>Volkswagen_Passat_Variant_2.0_TDI_Comfortline</td>\n      <td>privat</td>\n      <td>Angebot</td>\n      <td>2799</td>\n      <td>control</td>\n      <td>kombi</td>\n      <td>2005</td>\n      <td>manuell</td>\n      <td>...</td>\n      <td>passat</td>\n      <td>150000</td>\n      <td>12</td>\n      <td>diesel</td>\n      <td>volkswagen</td>\n      <td>ja</td>\n      <td>2016-04-07 00:00:00</td>\n      <td>0</td>\n      <td>57290</td>\n      <td>2016-04-07 10:25:17</td>\n    </tr>\n    <tr>\n      <th>12</th>\n      <td>12</td>\n      <td>2016-03-15 22:49:09</td>\n      <td>VW_Passat_Facelift_35i__\"7Sitzer\"</td>\n      <td>privat</td>\n      <td>Angebot</td>\n      <td>999</td>\n      <td>control</td>\n      <td>kombi</td>\n      <td>1995</td>\n      <td>manuell</td>\n      <td>...</td>\n      <td>passat</td>\n      <td>150000</td>\n      <td>11</td>\n      <td>benzin</td>\n      <td>volkswagen</td>\n      <td>NaN</td>\n      <td>2016-03-15 00:00:00</td>\n      <td>0</td>\n      <td>37269</td>\n      <td>2016-04-01 13:16:16</td>\n    </tr>\n    <tr>\n      <th>13</th>\n      <td>13</td>\n      <td>2016-03-21 21:37:40</td>\n      <td>VW_PASSAT_1.9_TDI_131_PS_LEDER</td>\n      <td>privat</td>\n      <td>Angebot</td>\n      <td>2500</td>\n      <td>control</td>\n      <td>kombi</td>\n      <td>2004</td>\n      <td>manuell</td>\n      <td>...</td>\n      <td>passat</td>\n      <td>150000</td>\n      <td>2</td>\n      <td>NaN</td>\n      <td>volkswagen</td>\n      <td>nein</td>\n      <td>2016-03-21 00:00:00</td>\n      <td>0</td>\n      <td>90762</td>\n      <td>2016-03-23 02:50:54</td>\n    </tr>\n    <tr>\n      <th>14</th>\n      <td>14</td>\n      <td>2016-03-21 12:57:01</td>\n      <td>Nissan_Navara_2.5DPF_SE4x4_Klima_Sitzheizg_Blu...</td>\n      <td>privat</td>\n      <td>Angebot</td>\n      <td>17999</td>\n      <td>control</td>\n      <td>suv</td>\n      <td>2011</td>\n      <td>manuell</td>\n      <td>...</td>\n      <td>navara</td>\n      <td>70000</td>\n      <td>3</td>\n      <td>diesel</td>\n      <td>nissan</td>\n      <td>nein</td>\n      <td>2016-03-21 00:00:00</td>\n      <td>0</td>\n      <td>4177</td>\n      <td>2016-04-06 07:45:42</td>\n    </tr>\n  </tbody>\n</table>\n<p>15 rows × 21 columns</p>\n</div>"
     },
     "execution_count": 4,
     "metadata": {},
     "output_type": "execute_result"
    }
   ],
   "source": [
    "#посмотрим на данные\n",
    "df.head(15)"
   ],
   "metadata": {
    "collapsed": false,
    "pycharm": {
     "name": "#%%\n"
    }
   }
  },
  {
   "cell_type": "code",
   "execution_count": 8,
   "outputs": [
    {
     "data": {
      "text/plain": "         index          dateCrawled  \\\n0            0  2016-03-24 11:52:17   \n1            1  2016-03-24 10:58:45   \n2            2  2016-03-14 12:52:21   \n3            3  2016-03-17 16:54:04   \n4            4  2016-03-31 17:25:20   \n...        ...                  ...   \n371523  371523  2016-03-14 17:48:27   \n371524  371524  2016-03-05 19:56:21   \n371525  371525  2016-03-19 18:57:12   \n371526  371526  2016-03-20 19:41:08   \n371527  371527  2016-03-07 19:39:19   \n\n                                                name  seller offerType  price  \\\n0                                         Golf_3_1.6  privat   Angebot    480   \n1                               A5_Sportback_2.7_Tdi  privat   Angebot  18300   \n2                     Jeep_Grand_Cherokee_\"Overland\"  privat   Angebot   9800   \n3                                 GOLF_4_1_4__3TÜRER  privat   Angebot   1500   \n4                     Skoda_Fabia_1.4_TDI_PD_Classic  privat   Angebot   3600   \n...                                              ...     ...       ...    ...   \n371523                    Suche_t4___vito_ab_6_sitze  privat   Angebot   2200   \n371524         Smart_smart_leistungssteigerung_100ps  privat   Angebot   1199   \n371525            Volkswagen_Multivan_T4_TDI_7DC_UY2  privat   Angebot   9200   \n371526                        VW_Golf_Kombi_1_9l_TDI  privat   Angebot   3400   \n371527  BMW_M135i_vollausgestattet_NP_52.720____Euro  privat   Angebot  28990   \n\n         abtest vehicleType  yearOfRegistration    gearbox  ...        model  \\\n0          test         NaN                1993    manuell  ...         golf   \n1          test       coupe                2011    manuell  ...          NaN   \n2          test         suv                2004  automatik  ...        grand   \n3          test  kleinwagen                2001    manuell  ...         golf   \n4          test  kleinwagen                2008    manuell  ...        fabia   \n...         ...         ...                 ...        ...  ...          ...   \n371523     test         NaN                2005        NaN  ...          NaN   \n371524     test      cabrio                2000  automatik  ...       fortwo   \n371525     test         bus                1996    manuell  ...  transporter   \n371526     test       kombi                2002    manuell  ...         golf   \n371527  control   limousine                2013    manuell  ...      m_reihe   \n\n       kilometer  monthOfRegistration  fuelType           brand  \\\n0         150000                    0    benzin      volkswagen   \n1         125000                    5    diesel            audi   \n2         125000                    8    diesel            jeep   \n3         150000                    6    benzin      volkswagen   \n4          90000                    7    diesel           skoda   \n...          ...                  ...       ...             ...   \n371523     20000                    1       NaN  sonstige_autos   \n371524    125000                    3    benzin           smart   \n371525    150000                    3    diesel      volkswagen   \n371526    150000                    6    diesel      volkswagen   \n371527     50000                    8    benzin             bmw   \n\n       notRepairedDamage          dateCreated nrOfPictures  postalCode  \\\n0                    NaN  2016-03-24 00:00:00            0       70435   \n1                     ja  2016-03-24 00:00:00            0       66954   \n2                    NaN  2016-03-14 00:00:00            0       90480   \n3                   nein  2016-03-17 00:00:00            0       91074   \n4                   nein  2016-03-31 00:00:00            0       60437   \n...                  ...                  ...          ...         ...   \n371523               NaN  2016-03-14 00:00:00            0       39576   \n371524              nein  2016-03-05 00:00:00            0       26135   \n371525              nein  2016-03-19 00:00:00            0       87439   \n371526               NaN  2016-03-20 00:00:00            0       40764   \n371527              nein  2016-03-07 00:00:00            0       73326   \n\n                   lastSeen  \n0       2016-04-07 03:16:57  \n1       2016-04-07 01:46:50  \n2       2016-04-05 12:47:46  \n3       2016-03-17 17:40:17  \n4       2016-04-06 10:17:21  \n...                     ...  \n371523  2016-04-06 00:46:52  \n371524  2016-03-11 18:17:12  \n371525  2016-04-07 07:15:26  \n371526  2016-03-24 12:45:21  \n371527  2016-03-22 03:17:10  \n\n[371528 rows x 21 columns]",
      "text/html": "<div>\n<style scoped>\n    .dataframe tbody tr th:only-of-type {\n        vertical-align: middle;\n    }\n\n    .dataframe tbody tr th {\n        vertical-align: top;\n    }\n\n    .dataframe thead th {\n        text-align: right;\n    }\n</style>\n<table border=\"1\" class=\"dataframe\">\n  <thead>\n    <tr style=\"text-align: right;\">\n      <th></th>\n      <th>index</th>\n      <th>dateCrawled</th>\n      <th>name</th>\n      <th>seller</th>\n      <th>offerType</th>\n      <th>price</th>\n      <th>abtest</th>\n      <th>vehicleType</th>\n      <th>yearOfRegistration</th>\n      <th>gearbox</th>\n      <th>...</th>\n      <th>model</th>\n      <th>kilometer</th>\n      <th>monthOfRegistration</th>\n      <th>fuelType</th>\n      <th>brand</th>\n      <th>notRepairedDamage</th>\n      <th>dateCreated</th>\n      <th>nrOfPictures</th>\n      <th>postalCode</th>\n      <th>lastSeen</th>\n    </tr>\n  </thead>\n  <tbody>\n    <tr>\n      <th>0</th>\n      <td>0</td>\n      <td>2016-03-24 11:52:17</td>\n      <td>Golf_3_1.6</td>\n      <td>privat</td>\n      <td>Angebot</td>\n      <td>480</td>\n      <td>test</td>\n      <td>NaN</td>\n      <td>1993</td>\n      <td>manuell</td>\n      <td>...</td>\n      <td>golf</td>\n      <td>150000</td>\n      <td>0</td>\n      <td>benzin</td>\n      <td>volkswagen</td>\n      <td>NaN</td>\n      <td>2016-03-24 00:00:00</td>\n      <td>0</td>\n      <td>70435</td>\n      <td>2016-04-07 03:16:57</td>\n    </tr>\n    <tr>\n      <th>1</th>\n      <td>1</td>\n      <td>2016-03-24 10:58:45</td>\n      <td>A5_Sportback_2.7_Tdi</td>\n      <td>privat</td>\n      <td>Angebot</td>\n      <td>18300</td>\n      <td>test</td>\n      <td>coupe</td>\n      <td>2011</td>\n      <td>manuell</td>\n      <td>...</td>\n      <td>NaN</td>\n      <td>125000</td>\n      <td>5</td>\n      <td>diesel</td>\n      <td>audi</td>\n      <td>ja</td>\n      <td>2016-03-24 00:00:00</td>\n      <td>0</td>\n      <td>66954</td>\n      <td>2016-04-07 01:46:50</td>\n    </tr>\n    <tr>\n      <th>2</th>\n      <td>2</td>\n      <td>2016-03-14 12:52:21</td>\n      <td>Jeep_Grand_Cherokee_\"Overland\"</td>\n      <td>privat</td>\n      <td>Angebot</td>\n      <td>9800</td>\n      <td>test</td>\n      <td>suv</td>\n      <td>2004</td>\n      <td>automatik</td>\n      <td>...</td>\n      <td>grand</td>\n      <td>125000</td>\n      <td>8</td>\n      <td>diesel</td>\n      <td>jeep</td>\n      <td>NaN</td>\n      <td>2016-03-14 00:00:00</td>\n      <td>0</td>\n      <td>90480</td>\n      <td>2016-04-05 12:47:46</td>\n    </tr>\n    <tr>\n      <th>3</th>\n      <td>3</td>\n      <td>2016-03-17 16:54:04</td>\n      <td>GOLF_4_1_4__3TÜRER</td>\n      <td>privat</td>\n      <td>Angebot</td>\n      <td>1500</td>\n      <td>test</td>\n      <td>kleinwagen</td>\n      <td>2001</td>\n      <td>manuell</td>\n      <td>...</td>\n      <td>golf</td>\n      <td>150000</td>\n      <td>6</td>\n      <td>benzin</td>\n      <td>volkswagen</td>\n      <td>nein</td>\n      <td>2016-03-17 00:00:00</td>\n      <td>0</td>\n      <td>91074</td>\n      <td>2016-03-17 17:40:17</td>\n    </tr>\n    <tr>\n      <th>4</th>\n      <td>4</td>\n      <td>2016-03-31 17:25:20</td>\n      <td>Skoda_Fabia_1.4_TDI_PD_Classic</td>\n      <td>privat</td>\n      <td>Angebot</td>\n      <td>3600</td>\n      <td>test</td>\n      <td>kleinwagen</td>\n      <td>2008</td>\n      <td>manuell</td>\n      <td>...</td>\n      <td>fabia</td>\n      <td>90000</td>\n      <td>7</td>\n      <td>diesel</td>\n      <td>skoda</td>\n      <td>nein</td>\n      <td>2016-03-31 00:00:00</td>\n      <td>0</td>\n      <td>60437</td>\n      <td>2016-04-06 10:17:21</td>\n    </tr>\n    <tr>\n      <th>...</th>\n      <td>...</td>\n      <td>...</td>\n      <td>...</td>\n      <td>...</td>\n      <td>...</td>\n      <td>...</td>\n      <td>...</td>\n      <td>...</td>\n      <td>...</td>\n      <td>...</td>\n      <td>...</td>\n      <td>...</td>\n      <td>...</td>\n      <td>...</td>\n      <td>...</td>\n      <td>...</td>\n      <td>...</td>\n      <td>...</td>\n      <td>...</td>\n      <td>...</td>\n      <td>...</td>\n    </tr>\n    <tr>\n      <th>371523</th>\n      <td>371523</td>\n      <td>2016-03-14 17:48:27</td>\n      <td>Suche_t4___vito_ab_6_sitze</td>\n      <td>privat</td>\n      <td>Angebot</td>\n      <td>2200</td>\n      <td>test</td>\n      <td>NaN</td>\n      <td>2005</td>\n      <td>NaN</td>\n      <td>...</td>\n      <td>NaN</td>\n      <td>20000</td>\n      <td>1</td>\n      <td>NaN</td>\n      <td>sonstige_autos</td>\n      <td>NaN</td>\n      <td>2016-03-14 00:00:00</td>\n      <td>0</td>\n      <td>39576</td>\n      <td>2016-04-06 00:46:52</td>\n    </tr>\n    <tr>\n      <th>371524</th>\n      <td>371524</td>\n      <td>2016-03-05 19:56:21</td>\n      <td>Smart_smart_leistungssteigerung_100ps</td>\n      <td>privat</td>\n      <td>Angebot</td>\n      <td>1199</td>\n      <td>test</td>\n      <td>cabrio</td>\n      <td>2000</td>\n      <td>automatik</td>\n      <td>...</td>\n      <td>fortwo</td>\n      <td>125000</td>\n      <td>3</td>\n      <td>benzin</td>\n      <td>smart</td>\n      <td>nein</td>\n      <td>2016-03-05 00:00:00</td>\n      <td>0</td>\n      <td>26135</td>\n      <td>2016-03-11 18:17:12</td>\n    </tr>\n    <tr>\n      <th>371525</th>\n      <td>371525</td>\n      <td>2016-03-19 18:57:12</td>\n      <td>Volkswagen_Multivan_T4_TDI_7DC_UY2</td>\n      <td>privat</td>\n      <td>Angebot</td>\n      <td>9200</td>\n      <td>test</td>\n      <td>bus</td>\n      <td>1996</td>\n      <td>manuell</td>\n      <td>...</td>\n      <td>transporter</td>\n      <td>150000</td>\n      <td>3</td>\n      <td>diesel</td>\n      <td>volkswagen</td>\n      <td>nein</td>\n      <td>2016-03-19 00:00:00</td>\n      <td>0</td>\n      <td>87439</td>\n      <td>2016-04-07 07:15:26</td>\n    </tr>\n    <tr>\n      <th>371526</th>\n      <td>371526</td>\n      <td>2016-03-20 19:41:08</td>\n      <td>VW_Golf_Kombi_1_9l_TDI</td>\n      <td>privat</td>\n      <td>Angebot</td>\n      <td>3400</td>\n      <td>test</td>\n      <td>kombi</td>\n      <td>2002</td>\n      <td>manuell</td>\n      <td>...</td>\n      <td>golf</td>\n      <td>150000</td>\n      <td>6</td>\n      <td>diesel</td>\n      <td>volkswagen</td>\n      <td>NaN</td>\n      <td>2016-03-20 00:00:00</td>\n      <td>0</td>\n      <td>40764</td>\n      <td>2016-03-24 12:45:21</td>\n    </tr>\n    <tr>\n      <th>371527</th>\n      <td>371527</td>\n      <td>2016-03-07 19:39:19</td>\n      <td>BMW_M135i_vollausgestattet_NP_52.720____Euro</td>\n      <td>privat</td>\n      <td>Angebot</td>\n      <td>28990</td>\n      <td>control</td>\n      <td>limousine</td>\n      <td>2013</td>\n      <td>manuell</td>\n      <td>...</td>\n      <td>m_reihe</td>\n      <td>50000</td>\n      <td>8</td>\n      <td>benzin</td>\n      <td>bmw</td>\n      <td>nein</td>\n      <td>2016-03-07 00:00:00</td>\n      <td>0</td>\n      <td>73326</td>\n      <td>2016-03-22 03:17:10</td>\n    </tr>\n  </tbody>\n</table>\n<p>371528 rows × 21 columns</p>\n</div>"
     },
     "execution_count": 8,
     "metadata": {},
     "output_type": "execute_result"
    }
   ],
   "source": [
    "df"
   ],
   "metadata": {
    "collapsed": false,
    "pycharm": {
     "name": "#%%\n"
    }
   }
  },
  {
   "cell_type": "markdown",
   "source": [
    "Таблица с данными содержит 371528 строк\n",
    "\n",
    "\n"
   ],
   "metadata": {
    "collapsed": false,
    "pycharm": {
     "name": "#%% md\n"
    }
   }
  }
 ],
 "metadata": {
  "kernelspec": {
   "display_name": "Python 3",
   "language": "python",
   "name": "python3"
  },
  "language_info": {
   "codemirror_mode": {
    "name": "ipython",
    "version": 2
   },
   "file_extension": ".py",
   "mimetype": "text/x-python",
   "name": "python",
   "nbconvert_exporter": "python",
   "pygments_lexer": "ipython2",
   "version": "2.7.6"
  }
 },
 "nbformat": 4,
 "nbformat_minor": 0
}